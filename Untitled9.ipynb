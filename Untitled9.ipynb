{
  "nbformat": 4,
  "nbformat_minor": 0,
  "metadata": {
    "colab": {
      "provenance": [],
      "authorship_tag": "ABX9TyNNvhD3cVwiSLOiFu1tqrhx",
      "include_colab_link": true
    },
    "kernelspec": {
      "name": "python3",
      "display_name": "Python 3"
    },
    "language_info": {
      "name": "python"
    }
  },
  "cells": [
    {
      "cell_type": "markdown",
      "metadata": {
        "id": "view-in-github",
        "colab_type": "text"
      },
      "source": [
        "<a href=\"https://colab.research.google.com/github/iYuuba21/latihanDasarPemograman/blob/main/Untitled9.ipynb\" target=\"_parent\"><img src=\"https://colab.research.google.com/assets/colab-badge.svg\" alt=\"Open In Colab\"/></a>"
      ]
    },
    {
      "cell_type": "code",
      "source": [
        "def Luas_Segitiga():\n",
        "    print(\"Hitung Luas Segitiga\")\n",
        "    alas = int(input('Masukan alasnya: '))\n",
        "    tinggi = int(input('Masukan tingginya: '))\n",
        "    Luas = 1/2 * (alas * tinggi)\n",
        "    print(\"Luas Segitiga Adalah: \", Luas, (\"cm2\"))\n",
        "\n",
        "def Luas_Persegi_Panjang():\n",
        "    print('Hitung Luas Persegi Panjang')\n",
        "    panjang = float(input('Masukan tingginya: '))\n",
        "    lebar = float(input('Masukan lebarnya: '))\n",
        "    Luas = (panjang * lebar)\n",
        "    print(\"Luas Persegi Panjang Adalah: \", Luas, (\"cm2\"))\n",
        "\n",
        "def Bilangan_Ganjil_Genap():\n",
        "    print('Menentukan Bilangan Ganjil dan Genap')\n",
        "    awal = int(input('Masukan Nilai Awal: '))\n",
        "    akhir = int(input('Masukan Nilai Akhir: '))\n",
        "    Ganjil = []\n",
        "    Genap = []\n",
        "    for i in range(awal, akhir+1):\n",
        "        if i % 2 == 0:\n",
        "            Ganjil.append(i)\n",
        "        if i % 2 == 1:\n",
        "            Genap.append(i)\n",
        "    print('Bilangan Ganjil: ', Ganjil,)\n",
        "    print('Bilangan Genap: ', Genap,)\n",
        "\n",
        "while True:\n",
        "    userInput = int(input(\n",
        "        \"MENU : \\n1. Luas Segitiga\\n2. Luas Persegi Panjang\\n3. Menentukan Angka Ganjil Genap\\n4. Quit\\nPilih Nomer: \"))\n",
        "    if (userInput == 1):\n",
        "        Luas_Segitiga()\n",
        "    elif (userInput == 2):\n",
        "        Luas_Persegi_Panjang()\n",
        "    elif (userInput == 3):\n",
        "        Bilangan_Ganjil_Genap()\n",
        "    else:\n",
        "        break"
      ],
      "metadata": {
        "id": "sXcK9-Jb87eF",
        "colab": {
          "base_uri": "https://localhost:8080/",
          "height": 531
        },
        "outputId": "8a72b06a-8c96-485f-e7af-e9d755601ace"
      },
      "execution_count": null,
      "outputs": [
        {
          "name": "stdout",
          "output_type": "stream",
          "text": [
            "MENU : \n",
            "1. Luas Segitiga\n",
            "2. Luas Persegi Panjang\n",
            "3. Menentukan Angka Ganjil Genap\n",
            "4. Quit\n",
            "Pilih Nomer: Q\n"
          ]
        },
        {
          "output_type": "error",
          "ename": "ValueError",
          "evalue": "ignored",
          "traceback": [
            "\u001b[0;31m---------------------------------------------------------------------------\u001b[0m",
            "\u001b[0;31mValueError\u001b[0m                                Traceback (most recent call last)",
            "\u001b[0;32m<ipython-input-1-abfe70254abe>\u001b[0m in \u001b[0;36m<module>\u001b[0;34m\u001b[0m\n\u001b[1;32m     28\u001b[0m \u001b[0;34m\u001b[0m\u001b[0m\n\u001b[1;32m     29\u001b[0m \u001b[0;32mwhile\u001b[0m \u001b[0;32mTrue\u001b[0m\u001b[0;34m:\u001b[0m\u001b[0;34m\u001b[0m\u001b[0;34m\u001b[0m\u001b[0m\n\u001b[0;32m---> 30\u001b[0;31m     userInput = int(input(\n\u001b[0m\u001b[1;32m     31\u001b[0m         \"MENU : \\n1. Luas Segitiga\\n2. Luas Persegi Panjang\\n3. Menentukan Angka Ganjil Genap\\n4. Quit\\nPilih Nomer: \"))\n\u001b[1;32m     32\u001b[0m     \u001b[0;32mif\u001b[0m \u001b[0;34m(\u001b[0m\u001b[0muserInput\u001b[0m \u001b[0;34m==\u001b[0m \u001b[0;36m1\u001b[0m\u001b[0;34m)\u001b[0m\u001b[0;34m:\u001b[0m\u001b[0;34m\u001b[0m\u001b[0;34m\u001b[0m\u001b[0m\n",
            "\u001b[0;31mValueError\u001b[0m: invalid literal for int() with base 10: 'Q'"
          ]
        }
      ]
    },
    {
      "cell_type": "code",
      "source": [
        "\n",
        "def Bayar_kos(biaya_kos, denda_keterlambatan, keterlambatan):\n",
        "  return biaya_kos + denda_keterlambatan * keterlambatan\n",
        "\n",
        "print('biaya kos yang harus di bayar = ', Bayar_kos(850000, 50000, 5))"
      ],
      "metadata": {
        "colab": {
          "base_uri": "https://localhost:8080/"
        },
        "id": "b1aTShEWrUUC",
        "outputId": "110a0bb3-1131-4a0d-a421-7c9239dcccf8"
      },
      "execution_count": 1,
      "outputs": [
        {
          "output_type": "stream",
          "name": "stdout",
          "text": [
            "biaya kos yang harus di bayar =  1100000\n"
          ]
        }
      ]
    }
  ]
}