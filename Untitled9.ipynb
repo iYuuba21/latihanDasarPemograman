{
  "nbformat": 4,
  "nbformat_minor": 0,
  "metadata": {
    "colab": {
      "provenance": [],
      "authorship_tag": "ABX9TyPUjldGyYeZO6hH/vUJNmho",
      "include_colab_link": true
    },
    "kernelspec": {
      "name": "python3",
      "display_name": "Python 3"
    },
    "language_info": {
      "name": "python"
    }
  },
  "cells": [
    {
      "cell_type": "markdown",
      "metadata": {
        "id": "view-in-github",
        "colab_type": "text"
      },
      "source": [
        "<a href=\"https://colab.research.google.com/github/iYuuba21/latihanDasarPemograman/blob/main/Untitled9.ipynb\" target=\"_parent\"><img src=\"https://colab.research.google.com/assets/colab-badge.svg\" alt=\"Open In Colab\"/></a>"
      ]
    },
    {
      "cell_type": "code",
      "source": [
        "def Luas_Segitiga():\n",
        "    print(\"Hitung Luas Segitiga\")\n",
        "    alas = int(input('Masukan alasnya: '))\n",
        "    tinggi = int(input('Masukan tingginya: '))\n",
        "    Luas = 1/2 * (alas * tinggi)\n",
        "    print(\"Luas Segitiga Adalah: \", Luas, (\"cm2\"))\n",
        "\n",
        "def Luas_Persegi_Panjang():\n",
        "    print('Hitung Luas Persegi Panjang')\n",
        "    panjang = float(input('Masukan tingginya: '))\n",
        "    lebar = float(input('Masukan lebarnya: '))\n",
        "    Luas = (panjang * lebar)\n",
        "    print(\"Luas Persegi Panjang Adalah: \", Luas, (\"cm2\"))\n",
        "\n",
        "def Bilangan_Ganjil_Genap():\n",
        "    print('Menentukan Bilangan Ganjil dan Genap')\n",
        "    awal = int(input('Masukan Nilai Awal: '))\n",
        "    akhir = int(input('Masukan Nilai Akhir: '))\n",
        "    Ganjil = []\n",
        "    Genap = []\n",
        "    for i in range(awal, akhir+1):\n",
        "        if i % 2 == 0:\n",
        "            Ganjil.append(i)\n",
        "        if i % 2 == 1:\n",
        "            Genap.append(i)\n",
        "    print('Bilangan Ganjil: ', Ganjil,)\n",
        "    print('Bilangan Genap: ', Genap,)\n",
        "\n",
        "while True:\n",
        "    userInput = int(input(\n",
        "        \"MENU : \\n1. Luas Segitiga\\n2. Luas Persegi Panjang\\n3. Menentukan Angka Ganjil Genap\\n4. Quit\\nPilih Nomer: \"))\n",
        "    if (userInput == 1):\n",
        "        Luas_Segitiga()\n",
        "    elif (userInput == 2):\n",
        "        Luas_Persegi_Panjang()\n",
        "    elif (userInput == 3):\n",
        "        Bilangan_Ganjil_Genap()\n",
        "    else:\n",
        "        break"
      ],
      "metadata": {
        "colab": {
          "base_uri": "https://localhost:8080/"
        },
        "id": "sXcK9-Jb87eF",
        "outputId": "a2979694-b4f8-497c-e710-330c0224c421"
      },
      "execution_count": 4,
      "outputs": [
        {
          "name": "stdout",
          "output_type": "stream",
          "text": [
            "MENU : \n",
            "1. Luas Segitiga\n",
            "2. Luas Persegi Panjang\n",
            "3. Menentukan Angka Ganjil Genap\n",
            "4. Quit\n",
            "Pilih Nomer: 1\n",
            "Hitung Luas Segitiga\n",
            "Masukan alasnya: 2\n",
            "Masukan tingginya: 5\n",
            "Luas Segitiga Adalah:  5.0 cm2\n",
            "MENU : \n",
            "1. Luas Segitiga\n",
            "2. Luas Persegi Panjang\n",
            "3. Menentukan Angka Ganjil Genap\n",
            "4. Quit\n",
            "Pilih Nomer: 4\n"
          ]
        }
      ]
    }
  ]
}