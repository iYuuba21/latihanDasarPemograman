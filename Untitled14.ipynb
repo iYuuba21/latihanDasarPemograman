{
  "nbformat": 4,
  "nbformat_minor": 0,
  "metadata": {
    "colab": {
      "provenance": [],
      "authorship_tag": "ABX9TyP1eTUmZQ5V3hhzym70Dxt3",
      "include_colab_link": true
    },
    "kernelspec": {
      "name": "python3",
      "display_name": "Python 3"
    },
    "language_info": {
      "name": "python"
    }
  },
  "cells": [
    {
      "cell_type": "markdown",
      "metadata": {
        "id": "view-in-github",
        "colab_type": "text"
      },
      "source": [
        "<a href=\"https://colab.research.google.com/github/iYuuba21/latihanDasarPemograman/blob/main/Untitled14.ipynb\" target=\"_parent\"><img src=\"https://colab.research.google.com/assets/colab-badge.svg\" alt=\"Open In Colab\"/></a>"
      ]
    },
    {
      "cell_type": "code",
      "execution_count": 1,
      "metadata": {
        "colab": {
          "base_uri": "https://localhost:8080/"
        },
        "id": "_jwTEUXHMHO6",
        "outputId": "22972f24-1b7e-4216-fb72-ae116bb6ff61"
      },
      "outputs": [
        {
          "output_type": "stream",
          "name": "stdout",
          "text": [
            "[100,200,500,100]\n",
            "nilai maksimum dari list = 500\n",
            "\n",
            "\n",
            "[100,-100,500,200]\n",
            "nilai minimum dari list =  -100\n",
            "\n",
            "\n",
            "original list ['a','e','i','u']\n",
            "Memasukan huruf a pada list ['O', 'a', 'e', 'i', 'u']\n"
          ]
        }
      ],
      "source": [
        "list_1 = [100,200,500,100]\n",
        "print(\"[100,200,500,100]\")\n",
        "print(\"nilai maksimum dari list =\",(max(list_1)))\n",
        "\n",
        "print(\"\\n\")\n",
        "\n",
        "list_2 = [100,-100,500,200]\n",
        "print(\"[100,-100,500,200]\")\n",
        "print(\"nilai minimum dari list = \",(min(list_2)))\n",
        "\n",
        "print(\"\\n\")\n",
        "\n",
        "list_3 = ['a','e','i','u']\n",
        "list_3[:0] = [\"O\"]\n",
        "print(\"original list ['a','e','i','u']\")\n",
        "print (\"Memasukan huruf a pada list\",list_3)"
      ]
    },
    {
      "cell_type": "code",
      "source": [
        "from pickle import TUPLE3\n",
        "tuple = (\"N\",\"A\",\"M\",\"A\")\n",
        "tuple1 = (\"N\")\n",
        "tuple2 = (\"A\")\n",
        "tuple3 = (\"M\")\n",
        "tuple4 = (\"A\")\n",
        "print(\"tuple original\",tuple)\n",
        "print(tuple1+tuple2+tuple3+tuple4,\"\\n\")\n",
        "\n",
        "tuple2  = (0, 200, 1000, 2, 3, 9000, 10)\n",
        "print(\"nilai dari tuple (0, 200, 1000, 2, 3, 9000, 10)\")\n",
        "print(\"nilai maksimum dari tuple= \",(max(tuple2)))\n",
        "\n",
        "print(\"\\n\")\n",
        "\n",
        "tuple3  = (0, 200, 1000, 2, 3, 9000, 10)\n",
        "print(\"nilai dari tuple (0, 200, 1000, 2, 3, 9000, 10)\")\n",
        "print(\"nilai minimum dari tuple = \",(min(tuple2)))"
      ],
      "metadata": {
        "colab": {
          "base_uri": "https://localhost:8080/"
        },
        "id": "1aVSdfTiMNfa",
        "outputId": "2178a2d0-945c-4c71-dc87-a271e831053d"
      },
      "execution_count": 2,
      "outputs": [
        {
          "output_type": "stream",
          "name": "stdout",
          "text": [
            "tuple original ('N', 'A', 'M', 'A')\n",
            "NAMA \n",
            "\n",
            "nilai dari tuple (0, 200, 1000, 2, 3, 9000, 10)\n",
            "nilai maksimum dari tuple=  9000\n",
            "\n",
            "\n",
            "nilai dari tuple (0, 200, 1000, 2, 3, 9000, 10)\n",
            "nilai minimum dari tuple =  0\n"
          ]
        }
      ]
    },
    {
      "cell_type": "code",
      "source": [
        "#Membership Test for Dictionary Keys\n",
        "dict = {100: 125, 300: 905, 505: 250, 700: 490, 900: 801}\n",
        "print(\"[100,125,300,905,505,250,700,490,900,801]\")\n",
        "print(\"nilai minimum dari list =\",(min(dict)))"
      ],
      "metadata": {
        "colab": {
          "base_uri": "https://localhost:8080/"
        },
        "id": "J1hKkR1WMRa2",
        "outputId": "865eca39-372c-43f0-a73c-ff9197f12b81"
      },
      "execution_count": 3,
      "outputs": [
        {
          "output_type": "stream",
          "name": "stdout",
          "text": [
            "[100,125,300,905,505,250,700,490,900,801]\n",
            "nilai minimum dari list = 100\n"
          ]
        }
      ]
    }
  ]
}