{
  "nbformat": 4,
  "nbformat_minor": 0,
  "metadata": {
    "colab": {
      "provenance": [],
      "authorship_tag": "ABX9TyOi7s2rWmH4zDprpFvvOGL7",
      "include_colab_link": true
    },
    "kernelspec": {
      "name": "python3",
      "display_name": "Python 3"
    },
    "language_info": {
      "name": "python"
    }
  },
  "cells": [
    {
      "cell_type": "markdown",
      "metadata": {
        "id": "view-in-github",
        "colab_type": "text"
      },
      "source": [
        "<a href=\"https://colab.research.google.com/github/iYuuba21/latihanDasarPemograman/blob/main/Untitled13.ipynb\" target=\"_parent\"><img src=\"https://colab.research.google.com/assets/colab-badge.svg\" alt=\"Open In Colab\"/></a>"
      ]
    },
    {
      "cell_type": "code",
      "source": [
        "#Bayu Putra\n",
        "#Ti22 J\n",
        "#20220040216"
      ],
      "metadata": {
        "id": "AQiAYSgFBMZZ"
      },
      "execution_count": 11,
      "outputs": []
    },
    {
      "cell_type": "code",
      "execution_count": null,
      "metadata": {
        "colab": {
          "base_uri": "https://localhost:8080/"
        },
        "id": "0Gswq_9uun1S",
        "outputId": "2a30c9ae-01bd-40f7-b15a-65ab274c52bc"
      },
      "outputs": [
        {
          "output_type": "stream",
          "name": "stdout",
          "text": [
            "Berapa Banyak Jumlah mahasiswa : 1\n",
            "Masukan Nim Mahasiswa :20220040216\n",
            "Masukan nilai UTS :90\n",
            "Masukan nilai UAS :91\n",
            "============================================================\n",
            "Nim            UTS     UAS     Total   Grade    Keterangan\n",
            "==============================================================\n",
            "20220040216\t90\t91\t90.5\tA\tLULUS\t"
          ]
        }
      ],
      "source": [
        "import array as myarh\n",
        "lulus = ['A','B','C','B+','C+']\n",
        "\n",
        "list_nilai =[9]\n",
        "jumlah_mahasiswa = int(input(\"Berapa Banyak Jumlah mahasiswa : \"))\n",
        "Nim_mahasiswa = int(input(\"Masukan Nim Mahasiswa :\"))\n",
        "Masukan_nilai_UTS = int(input(\"Masukan nilai UTS :\"))\n",
        "Masukan_nilai_UAS = int(input(\"Masukan nilai UAS :\"))\n",
        "print('='*60)\n",
        "# print(\"Nim Nilai UTS nilai UAS Total  Grade  Keterangan\")\n",
        "print(\"Nim            UTS     UAS     Total   Grade    Keterangan\")\n",
        "print(\"==============================================================\")\n",
        "\n",
        "jumlah = (Masukan_nilai_UTS + Masukan_nilai_UAS ) / 2\n",
        "if jumlah >= 90:\n",
        "    lulus_tidak = 'A'\n",
        "\n",
        "elif jumlah >=80:\n",
        "    lulus_tidak = 'B+'\n",
        "\n",
        "elif jumlah >=70:\n",
        "    lulus_tidak = 'B'\n",
        "        \n",
        "elif jumlah >=60:\n",
        "    lulus_tidak = 'C+'\n",
        "\n",
        "elif jumlah >=50:\n",
        "    lulus_tidak = 'C'\n",
        "\n",
        "elif jumlah >=40:\n",
        "    lulus_tidak = 'D'\n",
        "        \n",
        "elif jumlah >=30:\n",
        "    lulus_tidak = 'E'\n",
        "    \n",
        "else:\n",
        "    lulus_tidak = 'F'\n",
        "    \n",
        "\n",
        "if lulus_tidak in lulus:\n",
        "    print(Nim_mahasiswa,end='\\t')\n",
        "    print(Masukan_nilai_UTS,end='\\t')\n",
        "    print(Masukan_nilai_UAS,end='\\t')\n",
        "    print(jumlah,end='\\t')\n",
        "    print(lulus_tidak,end='\\t')\n",
        "    print('LULUS',end='\\t')\n",
        "    \n",
        "\n",
        "else:\n",
        "    print(Nim_mahasiswa)\n",
        "    print(Masukan_nilai_UTS)\n",
        "    print(Masukan_nilai_UAS)\n",
        "    print(jumlah)\n",
        "    print(lulus_tidak)\n",
        "    print('TIDAK LULUS')"
      ]
    },
    {
      "cell_type": "code",
      "source": [
        "teks = input('Tuliskan teks: ').lower()\n",
        "huruf_vokal = {\n",
        "  'a': 0,\n",
        "  'i': 0,\n",
        "  'u': 0,\n",
        "  'e': 0,\n",
        "  'o': 0\n",
        "}\n",
        "total_huruf_vokal = 0\n",
        "for karakter in teks:\n",
        "  if karakter in ['a', 'i', 'u', 'e',  'o']:\n",
        "    huruf_vokal[karakter] += 1\n",
        "    total_huruf_vokal += 1\n",
        "print(f'Total karakter: {len(teks)}')\n",
        "print(f'Total huruf vokal: {total_huruf_vokal}')\n",
        "print(f\"\"\"\\\n",
        "  a -> {huruf_vokal['a']}\n",
        "  i -> {huruf_vokal['i']}\n",
        "  u -> {huruf_vokal['u']}\n",
        "  e -> {huruf_vokal['e']}\n",
        "  o -> {huruf_vokal['o']}\\\n",
        "\"\"\")"
      ],
      "metadata": {
        "colab": {
          "base_uri": "https://localhost:8080/"
        },
        "id": "WERtB1d7BBvZ",
        "outputId": "c28f0bbe-d79f-44f3-91a1-24545dd67005"
      },
      "execution_count": 10,
      "outputs": [
        {
          "output_type": "stream",
          "name": "stdout",
          "text": [
            "Tuliskan teks: a\n",
            "Total karakter: 1\n",
            "Total huruf vokal: 1\n",
            "  a -> 1\n",
            "  i -> 0\n",
            "  u -> 0\n",
            "  e -> 0\n",
            "  o -> 0\n"
          ]
        }
      ]
    }
  ]
}