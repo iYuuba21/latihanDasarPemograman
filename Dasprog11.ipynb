{
  "nbformat": 4,
  "nbformat_minor": 0,
  "metadata": {
    "colab": {
      "provenance": [],
      "authorship_tag": "ABX9TyP4wh1bsStaxF5UCadXx1PO",
      "include_colab_link": true
    },
    "kernelspec": {
      "name": "python3",
      "display_name": "Python 3"
    },
    "language_info": {
      "name": "python"
    }
  },
  "cells": [
    {
      "cell_type": "markdown",
      "metadata": {
        "id": "view-in-github",
        "colab_type": "text"
      },
      "source": [
        "<a href=\"https://colab.research.google.com/github/iYuuba21/latihanDasarPemograman/blob/main/Dasprog11.ipynb\" target=\"_parent\"><img src=\"https://colab.research.google.com/assets/colab-badge.svg\" alt=\"Open In Colab\"/></a>"
      ]
    },
    {
      "cell_type": "code",
      "source": [
        "\n",
        "print(\"=\"*30 )\n",
        "print('PROGRAM MENGHITUNG LUAS')\n",
        "print('='*30)\n",
        "print('1).luas segitiga\\n2).luas persegi panjang \\n3).keliling persegi panjang ')\n",
        "\n",
        "\n",
        "def luas_segitiga ():\n",
        "    print('='*30,'PROGRAM LUAS SEGITIGA','='*30)\n",
        "    alas = float(input('masukan nilai alas\\t = '))\n",
        "    tinggi = float(input('masukann nilai tinggi \\t= '))\n",
        "    luas = 1/2 * alas * tinggi\n",
        "    print('luas segitiga adalah = ',luas )\n",
        "\n",
        "def luas_persegi_panjang():\n",
        "    print('='*30,'PROGRAM PERSEGI PANJANG','='*30)\n",
        "    panjang = int(input('masuknan nilai panjang\\t = '))\n",
        "    lebar = int(input('masukan nilai lebar \\t= '))\n",
        "    l = panjang * lebar \n",
        "    print('luas persegi panjang adaah = ',l)\n",
        "\n",
        "def keliling_persegi_panjang():\n",
        "    print('='*30,'KELILING PERSEGI PANJANG','='*30)\n",
        "    panjang = int(input('masukan nilai panjang \\t = '))\n",
        "    lebar = int(input('masukan nilai lebar\\t = '))\n",
        "    keliling = panjang + lebar + panjang + lebar\n",
        "    print('keliling persegi panjang adalah \\t= ',keliling)\n",
        "    \n",
        "while True:\n",
        "  \n",
        "    user = input('masukan angka untuk masuk program  = ')\n",
        "   \n",
        "    if (user == '1'):\n",
        "        luas_segitiga()\n",
        "    elif(user == '2'):\n",
        "        luas_persegi_panjang()\n",
        "    elif(user == '3'):\n",
        "        keliling_persegi_panjang()\n",
        "    elif(user == 'Y'):\n",
        "        user\n",
        "    elif(user == 'N'):\n",
        "        print('program selesai ')\n",
        "        break\n",
        "    else:\n",
        "        print('masukan kode yang benar')"
      ],
      "metadata": {
        "colab": {
          "base_uri": "https://localhost:8080/"
        },
        "id": "AbvoskEKcMz4",
        "outputId": "eafd4ed8-751a-4295-8d98-527feedc44c3"
      },
      "execution_count": 1,
      "outputs": [
        {
          "output_type": "stream",
          "name": "stdout",
          "text": [
            "==============================\n",
            "PROGRAM MENGHITUNG LUAS\n",
            "==============================\n",
            "1).luas segitiga\n",
            "2).luas persegi panjang \n",
            "3).keliling persegi panjang \n",
            "masukan angka untuk masuk program  = 1\n",
            "============================== PROGRAM LUAS SEGITIGA ==============================\n",
            "masukan nilai alas\t = 12\n",
            "masukann nilai tinggi \t= 2\n",
            "luas segitiga adalah =  12.0\n",
            "masukan angka untuk masuk program  = 2\n",
            "============================== PROGRAM PERSEGI PANJANG ==============================\n",
            "masuknan nilai panjang\t = 7\n",
            "masukan nilai lebar \t= 7\n",
            "luas persegi panjang adaah =  49\n",
            "masukan angka untuk masuk program  = 3\n",
            "============================== KELILING PERSEGI PANJANG ==============================\n",
            "masukan nilai panjang \t = 20\n",
            "masukan nilai lebar\t = 2\n",
            "keliling persegi panjang adalah \t=  44\n",
            "masukan angka untuk masuk program  = N\n",
            "program selesai \n"
          ]
        }
      ]
    },
    {
      "cell_type": "code",
      "source": [
        "\n",
        "def Bayar_kos(biaya_kos, denda_keterlambatan, keterlambatan):\n",
        "  return biaya_kos + denda_keterlambatan * keterlambatan\n",
        "\n",
        "print('biaya kos yang harus di bayar = ', Bayar_kos(850000, 50000, 5))"
      ],
      "metadata": {
        "colab": {
          "base_uri": "https://localhost:8080/"
        },
        "id": "iSRSovx2cqrW",
        "outputId": "2849540c-1f74-4d2f-b499-f96916369131"
      },
      "execution_count": 2,
      "outputs": [
        {
          "output_type": "stream",
          "name": "stdout",
          "text": [
            "biaya kos yang harus di bayar =  1100000\n"
          ]
        }
      ]
    }
  ]
}