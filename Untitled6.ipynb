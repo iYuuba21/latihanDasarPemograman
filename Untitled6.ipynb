{
  "nbformat": 4,
  "nbformat_minor": 0,
  "metadata": {
    "colab": {
      "provenance": [],
      "authorship_tag": "ABX9TyNx62gJkYf1Y3sIpOOBHvkz",
      "include_colab_link": true
    },
    "kernelspec": {
      "name": "python3",
      "display_name": "Python 3"
    },
    "language_info": {
      "name": "python"
    }
  },
  "cells": [
    {
      "cell_type": "markdown",
      "metadata": {
        "id": "view-in-github",
        "colab_type": "text"
      },
      "source": [
        "<a href=\"https://colab.research.google.com/github/iYuuba21/latihanDasarPemograman/blob/main/Untitled6.ipynb\" target=\"_parent\"><img src=\"https://colab.research.google.com/assets/colab-badge.svg\" alt=\"Open In Colab\"/></a>"
      ]
    },
    {
      "cell_type": "code",
      "source": [
        "#Bayu Putra Ti22J\n",
        "for i in range(5):\n",
        "    \n",
        "\n",
        "    print(\"====Program Nilai Kelulusan====\")\n",
        "    nilai=int(input(\"Inputkan nilai akhir:\"))\n",
        "    if nilai>=90<=100:\n",
        "        grade=\"A\"\n",
        "        predikat=\"Dengan Pujian\"\n",
        "    \n",
        "    elif nilai>=80:\n",
        "        grade=\"B\"\n",
        "        predikat=\"Sangat Memuaskan\"\n",
        "\n",
        "    elif nilai>=70:\n",
        "        grade=\"C\"\n",
        "        predikat=\"Memuaskan\"\n",
        "\n",
        "    elif nilai>=60:\n",
        "        grade=\"D\"\n",
        "        predikat=\"Tidak Memuaskan\"\n",
        "   \n",
        "    else:      \n",
        "        grade=\"E\"\n",
        "        predikat=\"Tidak Lulus\"\n",
        "    \n",
        "    print(\"grade anda:\", grade)\n",
        "    print(\"predikat anda:\", predikat)"
      ],
      "metadata": {
        "id": "A4mqHRcRC7Fe",
        "colab": {
          "base_uri": "https://localhost:8080/"
        },
        "outputId": "6135787b-22c6-4594-9d83-6fa5c65e69bc"
      },
      "execution_count": 6,
      "outputs": [
        {
          "output_type": "stream",
          "name": "stdout",
          "text": [
            "====Program Nilai Kelulusan====\n",
            "Inputkan nilai akhir:95\n",
            "grade anda: A\n",
            "predikat anda: Dengan Pujian\n",
            "====Program Nilai Kelulusan====\n",
            "Inputkan nilai akhir:85\n",
            "grade anda: B\n",
            "predikat anda: Sangat Memuaskan\n",
            "====Program Nilai Kelulusan====\n",
            "Inputkan nilai akhir:75\n",
            "grade anda: C\n",
            "predikat anda: Memuaskan\n",
            "====Program Nilai Kelulusan====\n",
            "Inputkan nilai akhir:65\n",
            "grade anda: D\n",
            "predikat anda: Tidak Memuaskan\n",
            "====Program Nilai Kelulusan====\n",
            "Inputkan nilai akhir:55\n",
            "grade anda: E\n",
            "predikat anda: Tidak Lulus\n"
          ]
        }
      ]
    }
  ]
}