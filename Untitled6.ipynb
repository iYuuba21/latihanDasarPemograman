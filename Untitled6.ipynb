{
  "nbformat": 4,
  "nbformat_minor": 0,
  "metadata": {
    "colab": {
      "provenance": [],
      "authorship_tag": "ABX9TyOdB1C2LV6oyT6CmQAnEeWn",
      "include_colab_link": true
    },
    "kernelspec": {
      "name": "python3",
      "display_name": "Python 3"
    },
    "language_info": {
      "name": "python"
    }
  },
  "cells": [
    {
      "cell_type": "markdown",
      "metadata": {
        "id": "view-in-github",
        "colab_type": "text"
      },
      "source": [
        "<a href=\"https://colab.research.google.com/github/iYuuba21/latihanDasarPemograman/blob/main/Untitled6.ipynb\" target=\"_parent\"><img src=\"https://colab.research.google.com/assets/colab-badge.svg\" alt=\"Open In Colab\"/></a>"
      ]
    },
    {
      "cell_type": "code",
      "execution_count": 4,
      "metadata": {
        "colab": {
          "base_uri": "https://localhost:8080/"
        },
        "id": "kaOtaloBeg2n",
        "outputId": "18b8de85-4392-478e-dba4-938e4c5f5f95"
      },
      "outputs": [
        {
          "name": "stdout",
          "output_type": "stream",
          "text": [
            "Nama:Bayu Putra\n",
            "Umur:21\n",
            "Jurusan:Teknik Informatika\n",
            "Kelas:Ti22J\n",
            "Nim:20220040216\n"
          ]
        }
      ],
      "source": [
        "#Input\n",
        "\n",
        "nama=input(\"Nama:\") \n",
        "umur=input(\"Umur:\") \n",
        "jurusan=input(\"Jurusan:\") \n",
        "kelas=input(\"Kelas:\") \n",
        "nim=input(\"Nim:\")"
      ]
    },
    {
      "cell_type": "code",
      "source": [
        "#Output\n",
        "\n",
        "print('Nama:','Bayu Putra')\n",
        "print('Umur:', '21')\n",
        "print('Jurusan:', 'Teknik Informatika')\n",
        "print('Kelas:', 'Ti22 J') \n",
        "print('Nim:', '20220040216')"
      ],
      "metadata": {
        "colab": {
          "base_uri": "https://localhost:8080/"
        },
        "id": "dQy_PU0gf4sj",
        "outputId": "6bb39f29-da1a-473a-cdea-2728e8d7cd6c"
      },
      "execution_count": 13,
      "outputs": [
        {
          "output_type": "stream",
          "name": "stdout",
          "text": [
            "Nama: Bayu Putra\n",
            "Umur: 21\n",
            "Jurusan: Teknik Informatika\n",
            "Kelas: Ti22 J\n",
            "Nim: 20220040216\n"
          ]
        }
      ]
    },
    {
      "cell_type": "code",
      "source": [
        "#Format\n",
        "\n",
        "template = \"Halo, nama saya %s, umur saya %s, Jurusan %s, kelas %s, hobi saya %s. Terimakasih!\" \n",
        "print(template % (\"Bayu Putra\", \"19 Tahun\", \" Teknik informatika \", \"Ti22 J\", \"Main game, Futsal, dan Berenang\"))"
      ],
      "metadata": {
        "colab": {
          "base_uri": "https://localhost:8080/"
        },
        "id": "WbiR5eRAi6uc",
        "outputId": "44d7ef81-420c-4fde-fa97-2c6bffc38ff9"
      },
      "execution_count": 20,
      "outputs": [
        {
          "output_type": "stream",
          "name": "stdout",
          "text": [
            "Halo, nama saya Bayu Putra, umur saya 19 Tahun, Jurusan  Teknik informatika , kelas Ti22 J, hobi saya Main game, Futsal, dan Berenang. Terimakasih!\n"
          ]
        }
      ]
    }
  ]
}