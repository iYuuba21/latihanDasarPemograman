{
  "nbformat": 4,
  "nbformat_minor": 0,
  "metadata": {
    "colab": {
      "provenance": [],
      "authorship_tag": "ABX9TyMGvjGvsRQu6U4FRV20nKPt",
      "include_colab_link": true
    },
    "kernelspec": {
      "name": "python3",
      "display_name": "Python 3"
    },
    "language_info": {
      "name": "python"
    }
  },
  "cells": [
    {
      "cell_type": "markdown",
      "metadata": {
        "id": "view-in-github",
        "colab_type": "text"
      },
      "source": [
        "<a href=\"https://colab.research.google.com/github/iYuuba21/latihanDasarPemograman/blob/main/Untitled2.ipynb\" target=\"_parent\"><img src=\"https://colab.research.google.com/assets/colab-badge.svg\" alt=\"Open In Colab\"/></a>"
      ]
    },
    {
      "cell_type": "code",
      "execution_count": 2,
      "metadata": {
        "colab": {
          "base_uri": "https://localhost:8080/"
        },
        "id": "HtEo-4mQuJyY",
        "outputId": "a7256128-3af4-4fb9-cb26-55251e53c70b"
      },
      "outputs": [
        {
          "output_type": "stream",
          "name": "stdout",
          "text": [
            "Bayu Putra\n",
            "20220040216\n",
            "Ti22 J\n"
          ]
        }
      ],
      "source": [
        "#Tugas variabel dan tipe data\n",
        "\n",
        "Nama=\"Bayu Putra\"\n",
        "NIM=\"20220040216\"\n",
        "kelas=\"Ti22 J\"\n",
        "\n",
        "print(Nama) \n",
        "print(NIM) \n",
        "print(kelas)"
      ]
    },
    {
      "cell_type": "code",
      "source": [
        "#No 1\n",
        "\n",
        "integer=\"Tipe data angka\"\n",
        "string=\"Tipe data kata\"\n",
        "float=\"Tipe data desimal\"\n",
        "boolean=\"Tipe data true atau false\"\n",
        "\n",
        "print('integer:',integer) \n",
        "print('string:',string) \n",
        "print('float:',float) \n",
        "print('boolean:',boolean)\n",
        "\n",
        "#TIPE DATA INTEGER\n",
        "print(\"Contoh Data Integer\")\n",
        "print(2)\n",
        "print(-10)\n",
        "a = 10\n",
        "print(a)\n",
        "type(a)\n",
        "\n",
        "#Tipe Data String\n",
        "print(\"contoh tipe data string\") \n",
        "print(\"Bayu Putra\")\n",
        "print(\"21\")\n",
        "\n",
        "dasarPemrogranan=\"21\"\n",
        "print(a)\n",
        "\n",
        "type(a)\n",
        "\n",
        "#Tipe Data Float\n",
        "print(\"contoh tipe data float\") \n",
        "print(1.0)\n",
        "print(1.9)\n",
        "\n",
        "zz=(2.8)\n",
        "print(zz)\n",
        "\n",
        "type(zz)\n",
        "\n",
        "#TIPE DATA BOOLEAN\n",
        "print(\"Contoh Data Boolean\")\n",
        "print(True)\n",
        "print(False)"
      ],
      "metadata": {
        "colab": {
          "base_uri": "https://localhost:8080/"
        },
        "id": "ps0bRcrgvJpq",
        "outputId": "c27504fe-5cd4-4764-89a0-154eb5e73ab2"
      },
      "execution_count": 10,
      "outputs": [
        {
          "output_type": "stream",
          "name": "stdout",
          "text": [
            "integer: Tipe data angka\n",
            "string: Tipe data kata\n",
            "float: Tipe data desimal\n",
            "boolean: Tipe data true atau false\n",
            "Contoh Data Integer\n",
            "2\n",
            "-10\n",
            "10\n",
            "contoh tipe data string\n",
            "Bayu Putra\n",
            "21\n",
            "10\n",
            "contoh tipe data float\n",
            "1.0\n",
            "1.9\n",
            "2.8\n",
            "Contoh Data Boolean\n",
            "True\n",
            "False\n"
          ]
        }
      ]
    },
    {
      "cell_type": "code",
      "source": [
        "#No 2\n",
        "\n",
        "Nama=\"Bayu Putra\"\n",
        "NIM=\"20220040216\"\n",
        "telp=\"089517698057\"\n",
        "print(Nama)\n",
        "print(NIM)\n",
        "print(telp)"
      ],
      "metadata": {
        "colab": {
          "base_uri": "https://localhost:8080/"
        },
        "id": "6inomJMPzkLC",
        "outputId": "3c302b72-d8c2-4f6b-8311-597bbf8c8d89"
      },
      "execution_count": 11,
      "outputs": [
        {
          "output_type": "stream",
          "name": "stdout",
          "text": [
            "Bayu Putra\n",
            "20220040216\n",
            "089517698057\n"
          ]
        }
      ]
    },
    {
      "cell_type": "code",
      "source": [
        "#No 3\n",
        "\n",
        "a=5000;\n",
        "b=2000;\n",
        "c=200;\n",
        "d=a+500;\n",
        "e=b+500;\n",
        "result=d+e+c;\n",
        "print(result)"
      ],
      "metadata": {
        "colab": {
          "base_uri": "https://localhost:8080/"
        },
        "id": "wZZXJdDmzvjV",
        "outputId": "2eea65b2-bc6c-4d7e-c5c0-a544fb4417aa"
      },
      "execution_count": 12,
      "outputs": [
        {
          "output_type": "stream",
          "name": "stdout",
          "text": [
            "8200\n"
          ]
        }
      ]
    },
    {
      "cell_type": "code",
      "source": [
        "#No 4\n",
        "\n",
        "phi=3.14\n",
        "r=21\n",
        "keliling=2*phi*r\n",
        "print(keliling)\n",
        "\n",
        "#volume kubus\n",
        "\n",
        "p=5\n",
        "l=10\n",
        "t=15\n",
        "volume=p*l*t\n",
        "print(volume)"
      ],
      "metadata": {
        "colab": {
          "base_uri": "https://localhost:8080/"
        },
        "id": "bwWICJMY0W8u",
        "outputId": "0957e538-8a14-486f-90da-0a630ed4a32e"
      },
      "execution_count": 19,
      "outputs": [
        {
          "output_type": "stream",
          "name": "stdout",
          "text": [
            "131.88\n",
            "750\n"
          ]
        }
      ]
    }
  ]
}