{
  "nbformat": 4,
  "nbformat_minor": 0,
  "metadata": {
    "colab": {
      "provenance": [],
      "authorship_tag": "ABX9TyNrP47ZlEq9lP82OPwPwMPF",
      "include_colab_link": true
    },
    "kernelspec": {
      "name": "python3",
      "display_name": "Python 3"
    },
    "language_info": {
      "name": "python"
    }
  },
  "cells": [
    {
      "cell_type": "markdown",
      "metadata": {
        "id": "view-in-github",
        "colab_type": "text"
      },
      "source": [
        "<a href=\"https://colab.research.google.com/github/iYuuba21/latihanDasarPemograman/blob/main/Untitled1.ipynb\" target=\"_parent\"><img src=\"https://colab.research.google.com/assets/colab-badge.svg\" alt=\"Open In Colab\"/></a>"
      ]
    },
    {
      "cell_type": "code",
      "source": [
        "#TIPE DATA INTEGER\n",
        "print(\"Contoh Data Integer\") \n",
        "print(2) \n",
        "print(-10)\n",
        "a = 10\n",
        "print(a)\n",
        "type(a)"
      ],
      "metadata": {
        "colab": {
          "base_uri": "https://localhost:8080/"
        },
        "id": "hc7aupPqfKSu",
        "outputId": "33af6d6d-ddc9-49e4-91fa-d6bb6f249c7b"
      },
      "execution_count": 6,
      "outputs": [
        {
          "output_type": "stream",
          "name": "stdout",
          "text": [
            "Contoh Data Integer\n",
            "2\n",
            "-10\n",
            "10\n"
          ]
        },
        {
          "output_type": "execute_result",
          "data": {
            "text/plain": [
              "int"
            ]
          },
          "metadata": {},
          "execution_count": 6
        }
      ]
    },
    {
      "cell_type": "code",
      "source": [
        "#Tipe Data Float\n",
        "print(1.0) \n",
        "print(1.9)\n",
        "\n",
        "zz=(2.8) \n",
        "print(zz) \n",
        "\n",
        "type(zz)"
      ],
      "metadata": {
        "colab": {
          "base_uri": "https://localhost:8080/"
        },
        "id": "DZcLVK7hgOYu",
        "outputId": "dbae5c71-b970-4c54-cfd9-9962cba5b4de"
      },
      "execution_count": 9,
      "outputs": [
        {
          "output_type": "stream",
          "name": "stdout",
          "text": [
            "1.0\n",
            "1.9\n",
            "2.8\n"
          ]
        },
        {
          "output_type": "execute_result",
          "data": {
            "text/plain": [
              "float"
            ]
          },
          "metadata": {},
          "execution_count": 9
        }
      ]
    },
    {
      "cell_type": "code",
      "source": [
        "#Tipe Data String\n",
        "print(\"Bayu Putra\")\n",
        "print(\"21\")\n",
        "\n",
        "dasarPemrogranan=\"21\"\n",
        "print(a) \n",
        "\n",
        "type(a)"
      ],
      "metadata": {
        "colab": {
          "base_uri": "https://localhost:8080/"
        },
        "id": "-1klQJAtg2ot",
        "outputId": "4c6a73a0-f4a5-4d4d-999e-63d46f3c954d"
      },
      "execution_count": 13,
      "outputs": [
        {
          "output_type": "stream",
          "name": "stdout",
          "text": [
            "Bayu Putra\n",
            "21\n",
            "21\n"
          ]
        },
        {
          "output_type": "execute_result",
          "data": {
            "text/plain": [
              "str"
            ]
          },
          "metadata": {},
          "execution_count": 13
        }
      ]
    },
    {
      "cell_type": "code",
      "source": [
        "#TIPE DATA BOOLEAN\n",
        "print(\"Contoh Data Boolean\") \n",
        "print(True)\n",
        "print(False)"
      ],
      "metadata": {
        "colab": {
          "base_uri": "https://localhost:8080/"
        },
        "id": "O6QCb9yhhw4d",
        "outputId": "aa183b84-5ad2-478f-be60-ad55fd7b4723"
      },
      "execution_count": 17,
      "outputs": [
        {
          "output_type": "stream",
          "name": "stdout",
          "text": [
            "Contoh Data Boolean\n",
            "True\n",
            "False\n"
          ]
        }
      ]
    },
    {
      "cell_type": "code",
      "source": [
        "a, b, c=1, 2,\"Mantap\"\n",
        "\n",
        "print('a:', a)\n",
        "print('b:', b) \n",
        "print('c:', c)\n",
        "\n",
        "d=e=f=10\n",
        "print('d:', d) \n",
        "print('e:', e) \n",
        "print('f:', f)"
      ],
      "metadata": {
        "colab": {
          "base_uri": "https://localhost:8080/"
        },
        "id": "Itr1SlwkjU9M",
        "outputId": "e4f61ea2-30f1-44b6-c2fa-0d6ce85ea6dc"
      },
      "execution_count": 21,
      "outputs": [
        {
          "output_type": "stream",
          "name": "stdout",
          "text": [
            "a: 1\n",
            "b: 2\n",
            "c: Mantap\n",
            "d: 10\n",
            "e: 10\n",
            "f: 10\n"
          ]
        }
      ]
    },
    {
      "cell_type": "code",
      "source": [
        "nama=\"Bayu Putra\"\n",
        "usia=20\n",
        "sudah_menikah=False\n",
        "\n",
        "print('nama:', nama) \n",
        "print('usia:', usia)\n",
        "print('sudah_menikah:', sudah_menikah)"
      ],
      "metadata": {
        "colab": {
          "base_uri": "https://localhost:8080/"
        },
        "id": "rxD0DVd9lBUx",
        "outputId": "26e576dc-c071-4b58-d56a-09b2fe37aea4"
      },
      "execution_count": 24,
      "outputs": [
        {
          "output_type": "stream",
          "name": "stdout",
          "text": [
            "nama: Bayu Putra\n",
            "usia: 20\n",
            "sudah_menikah: False\n"
          ]
        }
      ]
    },
    {
      "cell_type": "code",
      "source": [
        "a=2000;\n",
        "b=2000;\n",
        "c=1.5;\n",
        "d=a+50;\n",
        "e=b+50;\n",
        "result=d+e-c;\n",
        "print(result)\n",
        "\n",
        "type(result)"
      ],
      "metadata": {
        "colab": {
          "base_uri": "https://localhost:8080/"
        },
        "id": "67X2cDFrl7y6",
        "outputId": "de33e743-2cdf-43a1-fe3d-ec5ff3f7a76e"
      },
      "execution_count": 29,
      "outputs": [
        {
          "output_type": "stream",
          "name": "stdout",
          "text": [
            "4098.5\n"
          ]
        },
        {
          "output_type": "execute_result",
          "data": {
            "text/plain": [
              "float"
            ]
          },
          "metadata": {},
          "execution_count": 29
        }
      ]
    },
    {
      "cell_type": "code",
      "source": [
        "#Keliling Lingkaran\n",
        "\n",
        "s=int(input(\"masukan nilai sisi:\")) \n",
        "\n",
        "keliling= s*s*s*s\n",
        "print(keliling)"
      ],
      "metadata": {
        "colab": {
          "base_uri": "https://localhost:8080/"
        },
        "id": "n-ncb9-qnPV3",
        "outputId": "e6394994-ae32-4360-a971-17e4cd81aac4"
      },
      "execution_count": 37,
      "outputs": [
        {
          "output_type": "stream",
          "name": "stdout",
          "text": [
            "masukan nilai sisi:50\n",
            "6250000\n"
          ]
        }
      ]
    },
    {
      "cell_type": "code",
      "source": [
        "print(\"Bayu Putra\") \n",
        "print(\"20220040216\") \n",
        "print(\"089517698057\")"
      ],
      "metadata": {
        "colab": {
          "base_uri": "https://localhost:8080/"
        },
        "id": "HeINiPOUpn8N",
        "outputId": "c392ae8d-98b2-4519-8dce-932496529d7e"
      },
      "execution_count": 38,
      "outputs": [
        {
          "output_type": "stream",
          "name": "stdout",
          "text": [
            "Bayu Putra\n",
            "20220040216\n",
            "089517698057\n"
          ]
        }
      ]
    },
    {
      "cell_type": "code",
      "source": [
        "Nama=\"Bayu Putra\"\n",
        "NIM=\"20220040216\"\n",
        "telp=\"089517698057\"\n",
        "print(Nama) \n",
        "print(NIM) \n",
        "print(telp)"
      ],
      "metadata": {
        "colab": {
          "base_uri": "https://localhost:8080/"
        },
        "id": "zB4puas1sUhO",
        "outputId": "eddba75f-621f-49e6-e064-fad45002761d"
      },
      "execution_count": 39,
      "outputs": [
        {
          "output_type": "stream",
          "name": "stdout",
          "text": [
            "Bayu Putra\n",
            "20220040216\n",
            "089517698057\n"
          ]
        }
      ]
    },
    {
      "cell_type": "code",
      "source": [
        "#Luas Keliling Lingkaran\n",
        "\n",
        "Luas=\"2\"\n",
        "Keliling=\""
      ],
      "metadata": {
        "id": "3WiWrNJ4s0b6"
      },
      "execution_count": 39,
      "outputs": []
    },
    {
      "cell_type": "code",
      "source": [
        "import math\n",
        "r = float(input(\"Masukan Jari-jari : \"))\n",
        "\n",
        "luas = math.pi*(r*r)\n",
        "keliling = 2*math.pi*r\n",
        "\n",
        "print (\"Luas Lingkaran \\t\\t= \",luas)\n",
        "print (\"Keliling Lingkaran\\t= \",keliling)"
      ],
      "metadata": {
        "colab": {
          "base_uri": "https://localhost:8080/"
        },
        "id": "anRL9H55uKKz",
        "outputId": "5ae54074-ca5d-453a-e174-526cfc508790"
      },
      "execution_count": 44,
      "outputs": [
        {
          "output_type": "stream",
          "name": "stdout",
          "text": [
            "Masukan Jari-jari : 1\n",
            "Luas Lingkaran \t\t=  3.141592653589793\n",
            "Keliling Lingkaran\t=  6.283185307179586\n"
          ]
        }
      ]
    },
    {
      "cell_type": "code",
      "source": [
        "#Luas keliling Lingkaran\n",
        "\n",
        "d=3\n",
        "v=3.14\n",
        "Keliling lingkaran=d*v\n",
        "print(\"Keliling lingkaran\")"
      ],
      "metadata": {
        "colab": {
          "base_uri": "https://localhost:8080/",
          "height": 131
        },
        "id": "j5Y4DBYWwhwh",
        "outputId": "8fe4504a-a7f5-4537-b947-ce653a0d7108"
      },
      "execution_count": 45,
      "outputs": [
        {
          "output_type": "error",
          "ename": "SyntaxError",
          "evalue": "ignored",
          "traceback": [
            "\u001b[0;36m  File \u001b[0;32m\"<ipython-input-45-b3d6eada89f7>\"\u001b[0;36m, line \u001b[0;32m5\u001b[0m\n\u001b[0;31m    Keliling lingkaran=d*v\u001b[0m\n\u001b[0m                     ^\u001b[0m\n\u001b[0;31mSyntaxError\u001b[0m\u001b[0;31m:\u001b[0m invalid syntax\n"
          ]
        }
      ]
    },
    {
      "cell_type": "code",
      "source": [
        "phi = 3.14\n",
        "r = input(\"Masukkan panjang jari-jari lingkaran: \")\n",
        "k = 2 * phi*r\n",
        "print(\"Keliling Lingkaran adalah {}\".format(k))"
      ],
      "metadata": {
        "colab": {
          "base_uri": "https://localhost:8080/",
          "height": 236
        },
        "id": "bOKFBAoZx77R",
        "outputId": "44d89055-a093-439b-c5d5-2961e2a1d89c"
      },
      "execution_count": 47,
      "outputs": [
        {
          "name": "stdout",
          "output_type": "stream",
          "text": [
            "Masukkan panjang jari-jari lingkaran: 20\n"
          ]
        },
        {
          "output_type": "error",
          "ename": "TypeError",
          "evalue": "ignored",
          "traceback": [
            "\u001b[0;31m---------------------------------------------------------------------------\u001b[0m",
            "\u001b[0;31mTypeError\u001b[0m                                 Traceback (most recent call last)",
            "\u001b[0;32m<ipython-input-47-c7d27104dda8>\u001b[0m in \u001b[0;36m<module>\u001b[0;34m\u001b[0m\n\u001b[1;32m      1\u001b[0m \u001b[0mphi\u001b[0m \u001b[0;34m=\u001b[0m \u001b[0;36m3.14\u001b[0m\u001b[0;34m\u001b[0m\u001b[0;34m\u001b[0m\u001b[0m\n\u001b[1;32m      2\u001b[0m \u001b[0mr\u001b[0m \u001b[0;34m=\u001b[0m \u001b[0minput\u001b[0m\u001b[0;34m(\u001b[0m\u001b[0;34m\"Masukkan panjang jari-jari lingkaran: \"\u001b[0m\u001b[0;34m)\u001b[0m\u001b[0;34m\u001b[0m\u001b[0;34m\u001b[0m\u001b[0m\n\u001b[0;32m----> 3\u001b[0;31m \u001b[0mk\u001b[0m \u001b[0;34m=\u001b[0m \u001b[0;36m2\u001b[0m \u001b[0;34m*\u001b[0m \u001b[0mphi\u001b[0m\u001b[0;34m*\u001b[0m\u001b[0mr\u001b[0m\u001b[0;34m\u001b[0m\u001b[0;34m\u001b[0m\u001b[0m\n\u001b[0m\u001b[1;32m      4\u001b[0m \u001b[0mprint\u001b[0m\u001b[0;34m(\u001b[0m\u001b[0;34m\"Keliling Lingkaran adalah {}\"\u001b[0m\u001b[0;34m.\u001b[0m\u001b[0mformat\u001b[0m\u001b[0;34m(\u001b[0m\u001b[0mk\u001b[0m\u001b[0;34m)\u001b[0m\u001b[0;34m)\u001b[0m\u001b[0;34m\u001b[0m\u001b[0;34m\u001b[0m\u001b[0m\n",
            "\u001b[0;31mTypeError\u001b[0m: can't multiply sequence by non-int of type 'float'"
          ]
        }
      ]
    },
    {
      "cell_type": "code",
      "source": [
        "\n",
        "\n",
        "pi=3.14\n",
        "pi=float(input(\"masukan nilai d:\")) \n",
        "\n",
        "keliling=pi*d\n",
        "print(keliling)"
      ],
      "metadata": {
        "colab": {
          "base_uri": "https://localhost:8080/"
        },
        "id": "HX6dtoGSyGzk",
        "outputId": "09f3be2c-919a-4a05-862d-12509828dbf6"
      },
      "execution_count": 49,
      "outputs": [
        {
          "output_type": "stream",
          "name": "stdout",
          "text": [
            "masukan nilai d:20\n",
            "41000.0\n"
          ]
        }
      ]
    }
  ]
}