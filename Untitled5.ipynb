{
  "nbformat": 4,
  "nbformat_minor": 0,
  "metadata": {
    "colab": {
      "provenance": [],
      "collapsed_sections": [],
      "authorship_tag": "ABX9TyPG7zbqhb/1NephRhv2X+tv",
      "include_colab_link": true
    },
    "kernelspec": {
      "name": "python3",
      "display_name": "Python 3"
    },
    "language_info": {
      "name": "python"
    }
  },
  "cells": [
    {
      "cell_type": "markdown",
      "metadata": {
        "id": "view-in-github",
        "colab_type": "text"
      },
      "source": [
        "<a href=\"https://colab.research.google.com/github/iYuuba21/latihanDasarPemograman/blob/main/Untitled5.ipynb\" target=\"_parent\"><img src=\"https://colab.research.google.com/assets/colab-badge.svg\" alt=\"Open In Colab\"/></a>"
      ]
    },
    {
      "cell_type": "code",
      "execution_count": null,
      "metadata": {
        "colab": {
          "base_uri": "https://localhost:8080/"
        },
        "id": "3bcU9lJRx2gl",
        "outputId": "0c546f87-6422-4857-f9af-eed4793dae22"
      },
      "outputs": [
        {
          "output_type": "stream",
          "name": "stdout",
          "text": [
            "Bayu Putra\n",
            "20220040216\n",
            "Ti22 J\n"
          ]
        }
      ],
      "source": [
        "#Tugas Operator\n",
        "\n",
        "Nama=\"Bayu Putra\"\n",
        "NIM=\"20220040216\"\n",
        "kelas=\"Ti22 J\"\n",
        "\n",
        "print(Nama)\n",
        "print(NIM)\n",
        "print(kelas)"
      ]
    },
    {
      "cell_type": "code",
      "source": [
        "#No 1 Jenis Operator\n",
        "\n",
        "aritmatika=\"digunakan dengan nilai numerik untuk melakukan operasi matematika umum\"\n",
        "penugasan=\"digunakan untuk menetapkan nilai ke variabel\"\n",
        "perbandingan=\"digunakan untuk membandingkan dua atau lebih nilai\"\n",
        "logika=\"digunakan untuk operasi logika. Ada 3 kata hubung yang digunakan di operator logika yaitu and, or dan not\"\n",
        "identitas=\"digunakan untuk membandingkan objek, bukan jika mereka sama, tetapi jika mereka sebenarnya adalah objek yang sama, dengan lokasi memori yang sama\"\n",
        "keanggotaan=\"digunakan untuk menguji apakah urutan disajikan dalam suatu objek\"\n",
        "bitwise=\"operator khusus untuk menangani operasi logika bilangan biner dalam bentuk bit\"\n",
        "\n",
        "print(\"aritmatika:\", aritmatika) \n",
        "print(\"penugasan:\", penugasan)\n",
        "print(\"perbandingan:\", perbandingan)\n",
        "print(\"logika:\", logika) \n",
        "print(\"identitas:\", identitas) \n",
        "print(\"keanggotaan:\", keanggotaan) \n",
        "print(\"bitwise:\", bitwise)"
      ],
      "metadata": {
        "colab": {
          "base_uri": "https://localhost:8080/"
        },
        "id": "0p34xR8_yIsB",
        "outputId": "3b58d384-3180-4714-b141-50085c08af63"
      },
      "execution_count": null,
      "outputs": [
        {
          "output_type": "stream",
          "name": "stdout",
          "text": [
            "aritmatika: digunakan dengan nilai numerik untuk melakukan operasi matematika umum\n",
            "penugasan: digunakan untuk menetapkan nilai ke variabel\n",
            "perbandingan: digunakan untuk membandingkan dua atau lebih nilai\n",
            "logika: digunakan untuk operasi logika. Ada 3 kata hubung yang digunakan di operator logika yaitu and, or dan not\n",
            "identitas: digunakan untuk membandingkan objek, bukan jika mereka sama, tetapi jika mereka sebenarnya adalah objek yang sama, dengan lokasi memori yang sama\n",
            "keanggotaan: digunakan untuk menguji apakah urutan disajikan dalam suatu objek\n",
            "bitwise: operator khusus untuk menangani operasi logika bilangan biner dalam bentuk bit\n"
          ]
        }
      ]
    },
    {
      "cell_type": "code",
      "source": [
        "#No 2\n",
        "\n",
        "a,b,c,d,e,f,g,h=200,20,30,100,21.9**2,100,10,20\n",
        "\n",
        "hasil=(a/b-c)+(d*e/f+g/h) \n",
        "print(hasil)"
      ],
      "metadata": {
        "colab": {
          "base_uri": "https://localhost:8080/"
        },
        "id": "bKD8W1CF2gkt",
        "outputId": "a292c7a6-f24b-46c5-f0dd-845904ea5709"
      },
      "execution_count": null,
      "outputs": [
        {
          "output_type": "stream",
          "name": "stdout",
          "text": [
            "460.1099999999999\n"
          ]
        }
      ]
    },
    {
      "cell_type": "code",
      "source": [
        "#No 3\n",
        "\n",
        "x=100\n",
        "y=10\n",
        "z=68\n",
        "\n",
        "print('x berisi angka',x ,'desimal atau',bin(x),'biner')\n",
        "print('y berisi angka',y ,'desimal atau',bin(y),'biner')\n",
        "print('z berisi anhka',z ,'desimal atau',bin(z),'biner') \n",
        "\n",
        "print(x&y&z)\n",
        "print(x^y<<5>>2)\n",
        "print(~x&~y|~z)\n",
        "\n",
        "a=0b1100100\n",
        "b=0b1010\n",
        "c=0b1000100\n",
        "\n",
        "print(a&b&c)\n",
        "print(a^b<<5>>2)\n",
        "print(~a&~b|~c)"
      ],
      "metadata": {
        "colab": {
          "base_uri": "https://localhost:8080/"
        },
        "id": "lxNaTVIl8GZ-",
        "outputId": "7f880021-c654-42c6-ee8a-1da78021980b"
      },
      "execution_count": null,
      "outputs": [
        {
          "output_type": "stream",
          "name": "stdout",
          "text": [
            "x berisi angka 100 desimal atau 0b1100100 biner\n",
            "y berisi angka 10 desimal atau 0b1010 biner\n",
            "z berisi anhka 68 desimal atau 0b1000100 biner\n",
            "0\n",
            "52\n",
            "-69\n",
            "0\n",
            "52\n",
            "-69\n"
          ]
        }
      ]
    },
    {
      "cell_type": "code",
      "source": [
        "#No 4\n",
        "\n",
        "x=0b1100100\n",
        "y=0b110010\n",
        "z=0b101\n",
        "\n",
        "print('x berisi angka',x ,'desimal atau',bin(x),'biner')\n",
        "print('y berisi angka',y ,'desimal atau',bin(y),'biner')\n",
        "print('z berisi anhka',z ,'desimal atau',bin(z),'biner')\n",
        "\n",
        "a=100\n",
        "b=50\n",
        "c=5\n",
        "\n",
        "#a. \n",
        "hasil=a-b/c\n",
        "print(hasil)\n",
        "\n",
        "#b.\n",
        "hasil_2=(a*c)+b/a-c+c\n",
        "print(hasil_2)"
      ],
      "metadata": {
        "colab": {
          "base_uri": "https://localhost:8080/"
        },
        "id": "ZqwQAX-JAaYm",
        "outputId": "a12dbef3-4038-486a-a570-95bdb0a494a3"
      },
      "execution_count": null,
      "outputs": [
        {
          "output_type": "stream",
          "name": "stdout",
          "text": [
            "x berisi angka 100 desimal atau 0b1100100 biner\n",
            "y berisi angka 50 desimal atau 0b110010 biner\n",
            "z berisi anhka 5 desimal atau 0b101 biner\n",
            "90.0\n",
            "500.5\n"
          ]
        }
      ]
    }
  ]
}